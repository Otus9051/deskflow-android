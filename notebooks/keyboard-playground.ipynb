{
 "cells": [
  {
   "metadata": {
    "ExecuteTime": {
     "end_time": "2025-05-14T20:42:10.646845200Z",
     "start_time": "2025-05-14T20:42:10.361812300Z"
    }
   },
   "cell_type": "code",
   "source": [
    "//fun UInt.toHexString(): String {\n",
    "//    return this.toString(16).padStart(2, '0')\n",
    "//}\n",
    "fun Int.toHexString(): String {\n",
    "    return this.toString(16).padStart(2, '0')\n",
    "}\n",
    "\n",
    "val keys = mutableListOf<Int>(\n",
    "    8192,\n",
    "    0xE000\n",
    ")\n",
    "\n",
    "keys.forEach { value ->\n",
    "    println(\"10=$value,16=${value.toHexString()},2=${value.toString(2)}\")\n",
    "    }\n"
   ],
   "outputs": [
    {
     "name": "stdout",
     "output_type": "stream",
     "text": [
      "10=8192,16=2000,2=10000000000000\r\n",
      "10=57344,16=e000,2=1110000000000000\r\n"
     ]
    }
   ],
   "execution_count": 1
  },
  {
   "metadata": {
    "ExecuteTime": {
     "end_time": "2025-05-25T20:33:28.643468Z",
     "start_time": "2025-05-25T20:33:28.558832Z"
    }
   },
   "cell_type": "code",
   "source": [
    "@file:OptIn(ExperimentalStdlibApi::class)\n",
    "\n",
    "(0x0000002c).toChar()"
   ],
   "outputs": [
    {
     "data": {
      "text/plain": [
       ","
      ]
     },
     "execution_count": 1,
     "metadata": {},
     "output_type": "execute_result"
    }
   ],
   "execution_count": 1
  },
  {
   "metadata": {
    "ExecuteTime": {
     "end_time": "2025-05-25T21:02:51.325279Z",
     "start_time": "2025-05-25T21:02:51.261257Z"
    }
   },
   "cell_type": "code",
   "source": [
    "import kotlinx.serialization.json.Json\n",
    "import kotlinx.serialization.json.JsonArray\n",
    "import java.nio.file.Paths\n",
    "import kotlin.io.path.exists\n",
    "\n",
    "val rootPath = Paths.get(\"..\").toAbsolutePath()\n",
    "val jsonPath = rootPath.parent.resolve(\"../app/src/main/res/raw/system_actions_defaults.json\")\n",
    "\n",
    "println(\"JSON File $jsonPath, exists: ${jsonPath.exists()}\")\n",
    "\n",
    "val json = Json.parseToJsonElement(jsonPath.toFile().readText()) as JsonArray\n",
    "println(\"JSON: ${json.size}\")"
   ],
   "outputs": [
    {
     "name": "stdout",
     "output_type": "stream",
     "text": [
      "JSON File /Users/jglanz/code/platforms/android-km/synergy-km-android/notebooks/../app/src/main/res/raw/system_actions_defaults.json, exists: true\n",
      "JSON: 15\n"
     ]
    }
   ],
   "execution_count": 7
  }
 ],
 "metadata": {
  "kernelspec": {
   "display_name": "Kotlin",
   "language": "kotlin",
   "name": "kotlin"
  },
  "language_info": {
   "name": "kotlin",
   "version": "1.9.23",
   "mimetype": "text/x-kotlin",
   "file_extension": ".kt",
   "pygments_lexer": "kotlin",
   "codemirror_mode": "text/x-kotlin",
   "nbconvert_exporter": ""
  }
 },
 "nbformat": 4,
 "nbformat_minor": 0
}
